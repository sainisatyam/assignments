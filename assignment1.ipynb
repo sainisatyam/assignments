{
 "cells": [
  {
   "cell_type": "markdown",
   "id": "8d9c28f1-1faf-4c6c-85e9-41a292e4fc15",
   "metadata": {},
   "source": [
    "Answer 1"
   ]
  },
  {
   "cell_type": "code",
   "execution_count": null,
   "id": "35c88483-4523-4045-8d7a-1e2030618002",
   "metadata": {},
   "outputs": [],
   "source": [
    "a=\"sats\"\n",
    "b=[1]\n",
    "c=3.2\n",
    "d={a}"
   ]
  },
  {
   "cell_type": "markdown",
   "id": "8ab06164-f292-403d-a5bd-9bbdf5507219",
   "metadata": {},
   "source": [
    "answer 2"
   ]
  },
  {
   "cell_type": "markdown",
   "id": "ac6ffa4d-586f-4ae2-9c68-8ca4540a9c61",
   "metadata": {},
   "source": [
    "string\n",
    "string\n",
    "list\n",
    "integer"
   ]
  },
  {
   "cell_type": "markdown",
   "id": "0aaf74b7-e297-4af8-8344-fac892ccf9e2",
   "metadata": {},
   "source": [
    "Answer 3"
   ]
  },
  {
   "cell_type": "markdown",
   "id": "c46d7e56-3a26-43da-96f7-ba54bbd79769",
   "metadata": {},
   "source": [
    "gives division a=3/2->1.5\n",
    "gives remainder a=3%2->1\n",
    "gives only integer part of division a=3//2->1\n",
    "gives exponential a=3**2->9"
   ]
  },
  {
   "cell_type": "markdown",
   "id": "c305ce82-9703-4f59-8f7f-e00feae3ddcf",
   "metadata": {},
   "source": [
    "Answer 4"
   ]
  },
  {
   "cell_type": "code",
   "execution_count": null,
   "id": "0a87eba9-6214-4895-844c-5838098b0dcf",
   "metadata": {},
   "outputs": [],
   "source": [
    "a=[10,\"y\",[1,2],3,4,5,6,7,4.8,0]\n",
    "for i in a:\n",
    "    print(type(i))"
   ]
  },
  {
   "cell_type": "markdown",
   "id": "fe5114b9-f670-4312-adca-106307ac7304",
   "metadata": {},
   "source": [
    "answer 5"
   ]
  },
  {
   "cell_type": "code",
   "execution_count": null,
   "id": "c9e79b9b-679c-4b07-9fee-8cea544da0d2",
   "metadata": {},
   "outputs": [],
   "source": [
    "v=int(input(\"\"))\n",
    "z=int(input(\"\"))\n",
    "count=0\n",
    "while v<=z:\n",
    "    v=v-z\n",
    "    count+=1\n",
    "if v==0:\n",
    "    print(\"divisible\")\n",
    "    print(count)\n",
    "else:\n",
    "    print(\"not divisible\")\n",
    "    "
   ]
  },
  {
   "cell_type": "markdown",
   "id": "110c749d-128d-483e-9fe2-c50199aa8ccb",
   "metadata": {},
   "source": [
    "answer 6"
   ]
  },
  {
   "cell_type": "code",
   "execution_count": null,
   "id": "59684491-8b9b-4949-9bb1-db9c921effba",
   "metadata": {},
   "outputs": [],
   "source": [
    "l=[1,2,3,4,5,6,7,8,9,10,11,12,13,14,15,16,17,18,19,20,21,22,23,24,25]\n",
    "for i in l:\n",
    "    if l%3==0:\n",
    "        print(\"div by 3\")\n",
    "    else:\n",
    "        print(\"no div by 3\")"
   ]
  },
  {
   "cell_type": "markdown",
   "id": "b95b9b18-634b-439c-9f1a-6c21e3fa36fc",
   "metadata": {},
   "source": [
    "answer 7"
   ]
  },
  {
   "cell_type": "code",
   "execution_count": null,
   "id": "417e8ac0-5e79-4164-b31b-c543dbd2da81",
   "metadata": {},
   "outputs": [],
   "source": [
    "#mutable data types are data types in which changes can be made\n",
    "l1=[3]\n",
    "l1.append(4)\n",
    "#immutable data types are data typesin which changes can't be made\n",
    "x=3\n",
    "x=4\n",
    "print(id(x))\n",
    "print(id(y))\n",
    "#since id of both x is different means x doesn't get updated it start to refer toother object which means it is immutable as it doesn't change"
   ]
  }
 ],
 "metadata": {
  "kernelspec": {
   "display_name": "Python 3 (ipykernel)",
   "language": "python",
   "name": "python3"
  },
  "language_info": {
   "codemirror_mode": {
    "name": "ipython",
    "version": 3
   },
   "file_extension": ".py",
   "mimetype": "text/x-python",
   "name": "python",
   "nbconvert_exporter": "python",
   "pygments_lexer": "ipython3",
   "version": "3.10.8"
  }
 },
 "nbformat": 4,
 "nbformat_minor": 5
}
